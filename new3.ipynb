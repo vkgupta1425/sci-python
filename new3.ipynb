{
 "cells": [
  {
   "cell_type": "code",
   "execution_count": 1,
   "metadata": {},
   "outputs": [
    {
     "name": "stdout",
     "output_type": "stream",
     "text": [
      "[  2.   3.   5.   7.  11.  13.  17.  19.  23.  29.  31.  37.  41.  43.\n",
      "  47.  53.  59.  61.  67.  71.  73.  79.  83.  89.  97. 101. 103. 107.\n",
      " 109. 113. 127. 131. 137. 139. 149. 151. 157. 163. 167. 173. 179. 181.\n",
      " 191. 193. 197. 199. 211. 223. 227. 229. 233. 239. 241. 251. 257. 263.\n",
      " 269. 271. 277. 281. 283. 293. 307. 311. 313. 317. 331. 337. 347. 349.\n",
      " 353. 359. 367. 373. 379. 383. 389. 397. 401. 409. 419. 421. 431. 433.\n",
      " 439. 443. 449. 457. 461. 463. 467. 479. 487. 491. 499. 503. 509. 521.\n",
      " 523. 541.]\n"
     ]
    }
   ],
   "source": [
    "import numpy as np\n",
    "primes = np.loadtxt(\"primes.txt\",delimiter=\",\")\n",
    "print(primes)"
   ]
  },
  {
   "cell_type": "code",
   "execution_count": null,
   "metadata": {},
   "outputs": [],
   "source": []
  }
 ],
 "metadata": {
  "kernelspec": {
   "display_name": "base",
   "language": "python",
   "name": "python3"
  },
  "language_info": {
   "codemirror_mode": {
    "name": "ipython",
    "version": 3
   },
   "file_extension": ".py",
   "mimetype": "text/x-python",
   "name": "python",
   "nbconvert_exporter": "python",
   "pygments_lexer": "ipython3",
   "version": "3.11.3"
  },
  "orig_nbformat": 4
 },
 "nbformat": 4,
 "nbformat_minor": 2
}
