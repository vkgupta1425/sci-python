{
 "cells": [
  {
   "cell_type": "code",
   "execution_count": 2,
   "metadata": {},
   "outputs": [
    {
     "name": "stdout",
     "output_type": "stream",
     "text": [
      "PassFail\n"
     ]
    }
   ],
   "source": [
    "x = 10\n",
    "if x > 7 and x <=10:\n",
    "\tprint(\"Pass\", end=\"\")\n",
    "\tprint(\"Fail\")"
   ]
  },
  {
   "cell_type": "code",
   "execution_count": 3,
   "metadata": {},
   "outputs": [
    {
     "name": "stdout",
     "output_type": "stream",
     "text": [
      "B\n"
     ]
    }
   ],
   "source": [
    "if (3+8//2 != 7):\n",
    "\tprint(\"H\")\n",
    "else:\n",
    "\tprint(\"B\")"
   ]
  },
  {
   "cell_type": "code",
   "execution_count": 4,
   "metadata": {},
   "outputs": [
    {
     "name": "stdout",
     "output_type": "stream",
     "text": [
      "B\n"
     ]
    }
   ],
   "source": [
    "a = 155\n",
    "b = 126\n",
    "c = 237\n",
    "d = 388\n",
    "\n",
    "if a > b:\n",
    "\tif c > a:\n",
    "\t\tif d < c:\n",
    "\t\t\tprint(\"Hello\")\n",
    "\t\telse:\n",
    "\t\t\tprint(\"B\")\n",
    "\telse:\n",
    "\t\tprint(\"A\")"
   ]
  },
  {
   "cell_type": "code",
   "execution_count": 5,
   "metadata": {},
   "outputs": [
    {
     "name": "stdout",
     "output_type": "stream",
     "text": [
      "18\n"
     ]
    }
   ],
   "source": [
    "def cal(m, n):\n",
    "\tif m == n:\n",
    "\t\treturn m*3\n",
    "\telse:\n",
    "\t\treturn m*2\n",
    "s = cal(9,8)\n",
    "print(s)"
   ]
  },
  {
   "cell_type": "code",
   "execution_count": null,
   "metadata": {},
   "outputs": [],
   "source": []
  }
 ],
 "metadata": {
  "kernelspec": {
   "display_name": "scipy",
   "language": "python",
   "name": "python3"
  },
  "language_info": {
   "codemirror_mode": {
    "name": "ipython",
    "version": 3
   },
   "file_extension": ".py",
   "mimetype": "text/x-python",
   "name": "python",
   "nbconvert_exporter": "python",
   "pygments_lexer": "ipython3",
   "version": "3.11.3"
  },
  "orig_nbformat": 4
 },
 "nbformat": 4,
 "nbformat_minor": 2
}
