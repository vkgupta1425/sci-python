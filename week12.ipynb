{
 "cells": [
  {
   "cell_type": "code",
   "execution_count": 3,
   "metadata": {},
   "outputs": [],
   "source": [
    "import scipy as np"
   ]
  },
  {
   "cell_type": "code",
   "execution_count": 4,
   "metadata": {},
   "outputs": [
    {
     "name": "stderr",
     "output_type": "stream",
     "text": [
      "C:\\Users\\vkgup\\AppData\\Local\\Temp\\ipykernel_18960\\3736542472.py:7: DeprecationWarning: scipy.array is deprecated and will be removed in SciPy 2.0.0, use numpy.array instead\n",
      "  A = np.array(A)\n"
     ]
    },
    {
     "data": {
      "text/plain": [
       "(array([[0., 0., 1.],\n",
       "        [0., 1., 0.],\n",
       "        [1., 0., 0.]]),\n",
       " array([[ 1.  ,  0.  ,  0.  ],\n",
       "        [ 0.5 ,  1.  ,  0.  ],\n",
       "        [ 0.75, -0.5 ,  1.  ]]),\n",
       " array([[ 4. ,  2. ,  3. ],\n",
       "        [ 0. , -1. ,  0.5],\n",
       "        [ 0. ,  0. ,  2. ]]))"
      ]
     },
     "execution_count": 4,
     "metadata": {},
     "output_type": "execute_result"
    }
   ],
   "source": [
    "A = [\n",
    "    [3, 2, 4],\n",
    "    [2, 0, 2],\n",
    "    [4, 2, 3]\n",
    "]\n",
    "\n",
    "A = np.array(A)\n",
    "np.linalg.lu(A)"
   ]
  },
  {
   "cell_type": "code",
   "execution_count": 15,
   "metadata": {},
   "outputs": [
    {
     "data": {
      "text/plain": [
       "0.14657069083351942"
      ]
     },
     "execution_count": 15,
     "metadata": {},
     "output_type": "execute_result"
    }
   ],
   "source": [
    "import numpy as np\n",
    "\n",
    "random_numbers = np.random.rand(10**6)\n",
    "\n",
    "def f(x):\n",
    "    return (np.tanh(x**2))**2\n",
    "\n",
    "random_y = f(random_numbers)\n",
    "\n",
    "average = np.mean(random_y)\n",
    "average"
   ]
  },
  {
   "cell_type": "code",
   "execution_count": 26,
   "metadata": {},
   "outputs": [
    {
     "ename": "TypeError",
     "evalue": "f() missing 1 required positional argument: 'x'",
     "output_type": "error",
     "traceback": [
      "\u001b[1;31m---------------------------------------------------------------------------\u001b[0m",
      "\u001b[1;31mTypeError\u001b[0m                                 Traceback (most recent call last)",
      "\u001b[1;32mc:\\Users\\vkgup\\OneDrive\\Documents\\GitHub\\sci-python\\week12.ipynb Cell 4\u001b[0m line \u001b[0;36m1\n\u001b[0;32m      <a href='vscode-notebook-cell:/c%3A/Users/vkgup/OneDrive/Documents/GitHub/sci-python/week12.ipynb#W3sZmlsZQ%3D%3D?line=6'>7</a>\u001b[0m \u001b[39mdef\u001b[39;00m \u001b[39my\u001b[39m(x, eta):\n\u001b[0;32m      <a href='vscode-notebook-cell:/c%3A/Users/vkgup/OneDrive/Documents/GitHub/sci-python/week12.ipynb#W3sZmlsZQ%3D%3D?line=7'>8</a>\u001b[0m     \u001b[39mreturn\u001b[39;00m \u001b[39m0.2\u001b[39m\u001b[39m*\u001b[39mx \u001b[39m+\u001b[39m \u001b[39m0.3\u001b[39m\u001b[39m*\u001b[39mx\u001b[39m*\u001b[39m\u001b[39m*\u001b[39m\u001b[39m2\u001b[39m \u001b[39m-\u001b[39m \u001b[39m1\u001b[39m \u001b[39m+\u001b[39m \u001b[39m0.5\u001b[39m\u001b[39m*\u001b[39meta \n\u001b[1;32m---> <a href='vscode-notebook-cell:/c%3A/Users/vkgup/OneDrive/Documents/GitHub/sci-python/week12.ipynb#W3sZmlsZQ%3D%3D?line=9'>10</a>\u001b[0m z \u001b[39m=\u001b[39m f()\n",
      "\u001b[1;31mTypeError\u001b[0m: f() missing 1 required positional argument: 'x'"
     ]
    }
   ],
   "source": [
    "np.random.seed(0)\n",
    "\n",
    "x = np.arange(0, 100, 1)\n",
    "random_numbers = np.random.uniform(0, 1, 100)\n",
    "\n",
    "def y(x, eta):\n",
    "    return 0.2*x + 0.3*x**2 - 1 + 0.5*eta \n",
    "\n",
    "z = f()\n",
    "    "
   ]
  },
  {
   "cell_type": "code",
   "execution_count": 24,
   "metadata": {},
   "outputs": [
    {
     "name": "stdout",
     "output_type": "stream",
     "text": [
      "Tuple from two arrays:\n",
      "[[1 4]\n",
      " [2 5]\n",
      " [3 6]]\n"
     ]
    }
   ],
   "source": [
    "import numpy as np\n",
    "\n",
    "# Create two NumPy arrays (replace these with your actual arrays)\n",
    "array1 = np.array([1, 2, 3])\n",
    "array2 = np.array([4, 5, 6])\n",
    "\n",
    "# Stack the arrays horizontally to create a tuple\n",
    "result_tuple = np.column_stack((array1, array2))\n",
    "\n",
    "# Print the result\n",
    "print(\"Tuple from two arrays:\")\n",
    "print(result_tuple)"
   ]
  },
  {
   "cell_type": "code",
   "execution_count": null,
   "metadata": {},
   "outputs": [],
   "source": []
  }
 ],
 "metadata": {
  "kernelspec": {
   "display_name": "base",
   "language": "python",
   "name": "python3"
  },
  "language_info": {
   "codemirror_mode": {
    "name": "ipython",
    "version": 3
   },
   "file_extension": ".py",
   "mimetype": "text/x-python",
   "name": "python",
   "nbconvert_exporter": "python",
   "pygments_lexer": "ipython3",
   "version": "3.11.3"
  }
 },
 "nbformat": 4,
 "nbformat_minor": 2
}
