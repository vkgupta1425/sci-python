{
 "cells": [
  {
   "cell_type": "markdown",
   "metadata": {
    "tags": []
   },
   "source": [
    "LU DECOMPOSION"
   ]
  },
  {
   "cell_type": "markdown",
   "metadata": {},
   "source": [
    "import scipy as np"
   ]
  },
  {
   "cell_type": "code",
   "execution_count": 4,
   "metadata": {},
   "outputs": [
    {
     "name": "stderr",
     "output_type": "stream",
     "text": [
      "C:\\Users\\vkgup\\AppData\\Local\\Temp\\ipykernel_14932\\3736542472.py:7: DeprecationWarning: scipy.array is deprecated and will be removed in SciPy 2.0.0, use numpy.array instead\n",
      "  A = np.array(A)\n"
     ]
    },
    {
     "data": {
      "text/plain": [
       "(array([[0., 0., 1.],\n",
       "        [0., 1., 0.],\n",
       "        [1., 0., 0.]]),\n",
       " array([[ 1.  ,  0.  ,  0.  ],\n",
       "        [ 0.5 ,  1.  ,  0.  ],\n",
       "        [ 0.75, -0.5 ,  1.  ]]),\n",
       " array([[ 4. ,  2. ,  3. ],\n",
       "        [ 0. , -1. ,  0.5],\n",
       "        [ 0. ,  0. ,  2. ]]))"
      ]
     },
     "execution_count": 4,
     "metadata": {},
     "output_type": "execute_result"
    }
   ],
   "source": [
    "A = [\n",
    "    [3, 2, 4],\n",
    "    [2, 0, 2],\n",
    "    [4, 2, 3]\n",
    "]\n",
    "\n",
    "A = np.array(A)\n",
    "np.linalg.lu(A)"
   ]
  },
  {
   "cell_type": "code",
   "execution_count": null,
   "metadata": {},
   "outputs": [],
   "source": [
    "MONTE CARLO"
   ]
  },
  {
   "cell_type": "code",
   "execution_count": 5,
   "metadata": {},
   "outputs": [
    {
     "data": {
      "text/plain": [
       "0.14662193875555396"
      ]
     },
     "execution_count": 5,
     "metadata": {},
     "output_type": "execute_result"
    }
   ],
   "source": [
    "import numpy as np\n",
    "\n",
    "random_numbers = np.random.rand(10**6)\n",
    "\n",
    "def f(x):\n",
    "    return (np.tanh(x**2))**2\n",
    "\n",
    "random_y = f(random_numbers)\n",
    "\n",
    "average = np.mean(random_y)\n",
    "average"
   ]
  },
  {
   "cell_type": "code",
   "execution_count": null,
   "metadata": {},
   "outputs": [],
   "source": [
    "import numpy as np\n",
    "\n",
    "np.random.seed(0)\n",
    "\n",
    "x = np.arange(0, 100, 1)\n",
    "random_numbers = np.random.uniform(0, 1, 100)\n",
    "\n",
    "def y(x):\n",
    "    return 0.2*x + 0.3*x**2 - 1 + 0.5*(np.random.uniform(0, 1))\n",
    "\n",
    "z = y(x)\n",
    "    "
   ]
  },
  {
   "cell_type": "code",
   "execution_count": null,
   "metadata": {},
   "outputs": [],
   "source": [
    "import matplotlib.pyplot as plt \n",
    "\n",
    "\n",
    "plt.scatter(x, z, s=0.81)\n",
    "plt.show()"
   ]
  },
  {
   "cell_type": "code",
   "execution_count": null,
   "metadata": {},
   "outputs": [],
   "source": [
    "degree = 2\n",
    "coefficients = np.polyfit(x, z, degree)\n",
    "print(\"Coefficients of the fitted polynomial:\", coefficients)"
   ]
  },
  {
   "cell_type": "code",
   "execution_count": null,
   "metadata": {},
   "outputs": [],
   "source": [
    " "
   ]
  }
 ],
 "metadata": {
  "kernelspec": {
   "display_name": "base",
   "language": "python",
   "name": "python3"
  },
  "language_info": {
   "codemirror_mode": {
    "name": "ipython",
    "version": 3
   },
   "file_extension": ".py",
   "mimetype": "text/x-python",
   "name": "python",
   "nbconvert_exporter": "python",
   "pygments_lexer": "ipython3",
   "version": "3.11.3"
  }
 },
 "nbformat": 4,
 "nbformat_minor": 2
}
