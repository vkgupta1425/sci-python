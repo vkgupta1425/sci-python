{
 "cells": [
  {
   "cell_type": "code",
   "execution_count": 3,
   "metadata": {},
   "outputs": [
    {
     "data": {
      "text/plain": [
       "0.82"
      ]
     },
     "execution_count": 3,
     "metadata": {},
     "output_type": "execute_result"
    }
   ],
   "source": [
    "import numpy as np \n",
    "\n",
    "def f(x, y):\n",
    "    return (x-y)/2\n",
    "\n",
    "def rk2(f, x0, y0, xf, h):\n",
    "    x = x0 \n",
    "    y = y0 \n",
    "\n",
    "    while x < xf: \n",
    "        y_mid = y+h*0.5*f(x, y)\n",
    "        y = y_mid + h*0.5*f(x+0.5*h, y_mid)\n",
    "        x = x + h \n",
    "\n",
    "    return y \n",
    "\n",
    "np.round(rk2(f, 0, 1, 1, 0.01), 2)"
   ]
  },
  {
   "cell_type": "code",
   "execution_count": 6,
   "metadata": {},
   "outputs": [
    {
     "data": {
      "text/plain": [
       "0.22"
      ]
     },
     "execution_count": 6,
     "metadata": {},
     "output_type": "execute_result"
    }
   ],
   "source": [
    "def rk4(f, x0, y0, xf, h):\n",
    "    x = x0\n",
    "    y = y0\n",
    "\n",
    "    while x < xf:\n",
    "        k1 = h * f(x, y)\n",
    "        k2 = h * f(x + h/2, y + k1/2)\n",
    "        k3 = h * f(x + h/2, y + k2/2)\n",
    "        k4 = h * f(x + h, y + k3)\n",
    "\n",
    "        y = y +  (k1 + 2*k2 + 2*k3 + k4) / 6\n",
    "        x = x + h \n",
    "\n",
    "    return y\n",
    "\n",
    "\n",
    "def f(x, y):\n",
    "    return -y*np.cos(x) \n",
    "\n",
    "np.round(rk4(f, 0, 0.5, 1, 0.01), 2)"
   ]
  },
  {
   "cell_type": "markdown",
   "metadata": {},
   "source": [
    "The Predictor-Corrector method is a numerical technique used to solve ordinary differential equations (ODEs). It combines a prediction step (predictor) and a correction step (corrector) to improve the accuracy of the solution. One common predictor-corrector pair is the Adams-Bashforth predictor and the Adams-Moulton corrector. I'll explain the general idea and provide a simple example.\n",
    "\n",
    "**General Idea:**\n",
    "\n",
    "The predictor-corrector method starts with an initial approximation and iteratively refines it. Here are the general steps:\n",
    "\n",
    "1. **Prediction Step (Predictor):** Use a numerical method (e.g., Euler's method or any other method) to predict the next value of the solution.\n",
    "\n",
    "2. **Correction Step (Corrector):** Use a higher-order method (e.g., Adams-Moulton method) to correct the predicted value based on the information from previous steps.\n",
    "\n",
    "3. Repeat steps 1 and 2 until you reach the desired solution.\n",
    "\n",
    "**Mathematical Treatment:**\n",
    "\n",
    "Consider a first-order ODE of the form:\n",
    "\n",
    "$$\\frac{dy}{dx} = f(x, y)$$\n",
    "\n",
    "With an initial condition $y(x_0) = y_0$, we want to approximate the solution $y(x)$ at various points $x$.\n",
    "\n",
    "Here's a simplified version of the Adams-Bashforth predictor and Adams-Moulton corrector pair for demonstration:\n",
    "\n",
    "**Prediction Step (Adams-Bashforth):**\n",
    "\\begin{align*}\n",
    "&\\text{Predicted value: } y_{\\text{pred}} = y_n + h \\cdot f(x_n, y_n) \\\\\n",
    "&\\text{Where } n \\text{ is the current step, } x_n \\text{ is the current x-value, and } y_n \\text{ is the current approximation of } y(x_n).\n",
    "\\end{align*}\n",
    "\n",
    "\n",
    "**Correction Step (Adams-Moulton):**\n",
    "\\begin{align*}\n",
    "&\\text{Corrected value: } y_{n+1} = y_n + \\frac{h}{2} \\left(f(x_n, y_n) + f(x_{n+1}, y_{\\text{pred}})\\right)\n",
    "\\end{align*}\n",
    "\n",
    "Repeat the prediction and correction steps iteratively to approximate \\(y(x)\\) at different \\(x\\) values.\n",
    "\n",
    "**Example:**\n",
    "\n",
    "Let's solve the following ODE as an example:\n",
    "\n",
    "$$\\frac{dy}{dx} = x + y, \\quad y(0) = 1$$\n",
    "\n",
    "Using the predictor-corrector method with Adams-Bashforth (predictor) and Adams-Moulton (corrector) for the first few steps:\n",
    "\n",
    "1. Start with initial conditions: $x_0 = 0, y_0 = 1, h = 0.1$.\n",
    "2. Use Adams-Bashforth to predict $y_1$:\n",
    "\n",
    "   $$y_{\\text{pred}_1} = y_0 + h \\cdot (x_0 + y_0) = 1 + 0.1 \\cdot (0 + 1) = 1.1$$\n",
    "\n",
    "3. Use Adams-Moulton to correct \\(y_1\\):\n",
    "\n",
    "   $$y_1 = y_0 + \\frac{h}{2} \\cdot \\left((x_0 + y_0) + (x_1 + y_{\\text{pred}_1})\\right) = 1 + 0.05 \\cdot \\left((0 + 1) + (0.1 + 1.1)\\right) = 1.105$$\n",
    "\n",
    "4. Repeat steps 2 and 3 for the next time step $x_2$, and so on.\n",
    "\n",
    "Continue this process iteratively to approximate $y(x)$ at different $x$ values. The accuracy of the solution improves with each iteration, and you can adjust the step size $h$ for desired accuracy."
   ]
  },
  {
   "cell_type": "code",
   "execution_count": 8,
   "metadata": {},
   "outputs": [
    {
     "data": {
      "text/plain": [
       "22.17"
      ]
     },
     "execution_count": 8,
     "metadata": {},
     "output_type": "execute_result"
    }
   ],
   "source": [
    "def prec_correct(f, x0, y0, xf, h):\n",
    "    x = x0 \n",
    "    y = y0 \n",
    "\n",
    "    while x < xf: \n",
    "        y_pred = y + h*f(x, y) \n",
    "        y = y + 0.5*h*(f(x, y) + f(x+h, y_pred))\n",
    "        x = x+h \n",
    "\n",
    "    return y \n",
    "\n",
    "def f(x, y):\n",
    "    return y + np.exp(x) \n",
    "\n",
    "np.round(prec_correct(f, 0, 1, 2, 0.01), 2) "
   ]
  },
  {
   "cell_type": "code",
   "execution_count": null,
   "metadata": {},
   "outputs": [],
   "source": []
  }
 ],
 "metadata": {
  "kernelspec": {
   "display_name": "base",
   "language": "python",
   "name": "python3"
  },
  "language_info": {
   "codemirror_mode": {
    "name": "ipython",
    "version": 3
   },
   "file_extension": ".py",
   "mimetype": "text/x-python",
   "name": "python",
   "nbconvert_exporter": "python",
   "pygments_lexer": "ipython3",
   "version": "3.11.3"
  },
  "orig_nbformat": 4
 },
 "nbformat": 4,
 "nbformat_minor": 2
}
