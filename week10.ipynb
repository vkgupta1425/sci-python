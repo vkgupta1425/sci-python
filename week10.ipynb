{
 "cells": [
  {
   "cell_type": "code",
   "execution_count": 3,
   "metadata": {},
   "outputs": [
    {
     "data": {
      "text/plain": [
       "-2.88"
      ]
     },
     "execution_count": 3,
     "metadata": {},
     "output_type": "execute_result"
    }
   ],
   "source": [
    "import numpy as np \n",
    "\n",
    "def f(x):\n",
    "    return x**3 + 4*x**2 + 6*x + 8\n",
    "\n",
    "\n",
    "def bisection_method(f, a, b, tol):\n",
    "    x1 = a \n",
    "    x2 = b \n",
    "    if f(a) * f(b) < 0:\n",
    "        while np.abs(x1-x2) > tol: \n",
    "            mp = (x1+x2)/2\n",
    "            if f(x1) < 0:\n",
    "                if f(mp) < 0:\n",
    "                    x1 = mp \n",
    "                else: \n",
    "                    x2 = mp \n",
    "            else:\n",
    "                if f(mp) > 0:\n",
    "                    x1 = mp\n",
    "                else:\n",
    "                    x2 = mp \n",
    "\n",
    "        return mp \n",
    "    else:\n",
    "        return \"Choose another interval\" \n",
    "\n",
    "np.round(bisection_method(f, -10, 10, 0.0001), 2)"
   ]
  },
  {
   "cell_type": "code",
   "execution_count": 19,
   "metadata": {},
   "outputs": [
    {
     "data": {
      "text/plain": [
       "6.38"
      ]
     },
     "execution_count": 19,
     "metadata": {},
     "output_type": "execute_result"
    }
   ],
   "source": [
    "from scipy import linalg\n",
    "A = np.array(\n",
    "    [[3, 4, -1],\n",
    "     [1, 2, 1],\n",
    "     [5, -1, 7]]\n",
    ")\n",
    "b = np.array([2, 11, 15])\n",
    "x = linalg.solve(A, b)\n",
    "np.round(x.sum(), 2)"
   ]
  },
  {
   "cell_type": "code",
   "execution_count": 25,
   "metadata": {},
   "outputs": [
    {
     "name": "stdout",
     "output_type": "stream",
     "text": [
      "The sum of eigenvalue     :(6+0j)\n",
      "The product of eigenvalue :(26+0j)\n"
     ]
    }
   ],
   "source": [
    "A = np.array(\n",
    "    [[2, 0, 0],\n",
    "     [0, 2, 3],\n",
    "     [0, -3, 2]]\n",
    ")\n",
    "\n",
    "x = linalg.eig(A)[0]\n",
    "print(f\"The sum of eigenvalue     :{np.round(x.sum(), 2)}\")\n",
    "print(f\"The product of eigenvalue :{np.round(x.prod(), 2)}\")"
   ]
  },
  {
   "cell_type": "code",
   "execution_count": 29,
   "metadata": {},
   "outputs": [
    {
     "name": "stdout",
     "output_type": "stream",
     "text": [
      "Maximum value of eigenvalue: (7.5+0j)\n",
      "Determinant of A is 17.0\n"
     ]
    }
   ],
   "source": [
    "A = np.array(\n",
    "    [[1, 2, 3],\n",
    "     [2, 1, 4],\n",
    "     [3, 4, 2]]\n",
    ")\n",
    "\n",
    "e = linalg.eig(A)[0]\n",
    "max_eigenvalue = max(e.min(), e.max(), key=abs)\n",
    "print(f\"Maximum value of eigenvalue: {np.round(max_eigenvalue, 2)}\")\n",
    "\n",
    "print(f\"Determinant of A is {linalg.det(A)}\")"
   ]
  },
  {
   "cell_type": "code",
   "execution_count": null,
   "metadata": {},
   "outputs": [],
   "source": []
  }
 ],
 "metadata": {
  "kernelspec": {
   "display_name": "base",
   "language": "python",
   "name": "python3"
  },
  "language_info": {
   "codemirror_mode": {
    "name": "ipython",
    "version": 3
   },
   "file_extension": ".py",
   "mimetype": "text/x-python",
   "name": "python",
   "nbconvert_exporter": "python",
   "pygments_lexer": "ipython3",
   "version": "3.11.3"
  },
  "orig_nbformat": 4
 },
 "nbformat": 4,
 "nbformat_minor": 2
}
